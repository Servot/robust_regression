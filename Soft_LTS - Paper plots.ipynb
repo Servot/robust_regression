{
 "cells": [
  {
   "cell_type": "markdown",
   "metadata": {},
   "source": [
    "# Imports"
   ]
  },
  {
   "cell_type": "code",
   "execution_count": null,
   "metadata": {},
   "outputs": [],
   "source": [
    "import os\n",
    "import logging\n",
    "import numpy as np\n",
    "import pandas as pd\n",
    "import matplotlib.pyplot as plt\n",
    "from mpl_toolkits import mplot3d\n",
    "\n",
    "from sklearn.preprocessing import StandardScaler\n",
    "from sklearn.linear_model import LinearRegression\n",
    "\n",
    "import soft_lts, experiment, data_simulator, custom_wrapping\n",
    "from experiment import Model, ParamGrid\n",
    "\n",
    "logging.basicConfig(format='%(asctime)s - %(name)15s - %(levelname)8s - %(message)s', level=logging.INFO, datefmt=\"%Y-%m-%d %H:%M:%S\")\n",
    "\n",
    "\n",
    "%matplotlib inline \n",
    "# increase number of distinct colors\n",
    "from cycler import cycler\n",
    "plt.rcParams['axes.prop_cycle'] = cycler('color', [plt.get_cmap('tab10')(i) for i in range(20)])"
   ]
  },
  {
   "cell_type": "markdown",
   "metadata": {},
   "source": [
    "# Experiment"
   ]
  },
  {
   "cell_type": "code",
   "execution_count": null,
   "metadata": {},
   "outputs": [],
   "source": [
    "param_grids = [\n",
    "    ParamGrid(name='OLS', model=Model.OLS),\n",
    "    ParamGrid(\n",
    "        name='SoftLTS single start - no smart init', model=Model.SOFT_LTS, smart_init=False,\n",
    "        fit_params={'apply_c_steps': False, 'max_iter': 300},\n",
    "        grid_params={\n",
    "          'alpha': [0.5], 'regularization_strength': [0.0001], 'n_initial_subsets': [1], 'n_best_models': [1], 'n_initial_iters': [1]\n",
    "    }),\n",
    "    ParamGrid(\n",
    "        name='SoftLTS 20 starts - no smart init', model=Model.SOFT_LTS, smart_init=False,\n",
    "        fit_params={'apply_c_steps': False, 'max_iter': 300},\n",
    "        grid_params={\n",
    "          'alpha': [0.5], 'regularization_strength': [0.0001], 'n_initial_subsets': [20], 'n_best_models': [10], 'n_initial_iters': [10]\n",
    "    }),\n",
    "    ParamGrid(\n",
    "        name='SoftLTS single start - xy wrap smart init', model=Model.SOFT_LTS, smart_init=True,\n",
    "        fit_params={'apply_c_steps': False, 'max_iter': 300},\n",
    "        grid_params={\n",
    "          'alpha': [0.5], 'regularization_strength': [0.0001], 'n_initial_subsets': [1], 'n_best_models': [1], 'n_initial_iters': [1]\n",
    "    }),\n",
    "    ParamGrid(\n",
    "        name='SoftLMS single start - no smart init', model=Model.SOFT_LMS, smart_init=False,\n",
    "        fit_params={'apply_c_steps': False, 'max_iter': 300, 'normalize_gradients': True},\n",
    "        grid_params={\n",
    "          'alpha': [0.5], 'regularization_strength': [0.0001], 'n_initial_subsets': [1],  'n_best_models': [1],'n_initial_iters': [1]\n",
    "    }),\n",
    "    ParamGrid(\n",
    "        name='SoftLMS 20 starts - no smart init', model=Model.SOFT_LMS, smart_init=False,\n",
    "        fit_params={'apply_c_steps': False, 'max_iter': 300, 'normalize_gradients': True},\n",
    "        grid_params={\n",
    "          'alpha': [0.5], 'regularization_strength': [0.0001], 'n_initial_subsets': [20],  'n_best_models': [10],'n_initial_iters': [10]\n",
    "    }),\n",
    "    ParamGrid(\n",
    "        name='SoftLMS single start - xy wrap smart init', model=Model.SOFT_LMS, smart_init=True,\n",
    "        fit_params={'apply_c_steps': False, 'max_iter': 300, 'normalize_gradients': True},\n",
    "        grid_params={\n",
    "          'alpha': [0.5], 'regularization_strength': [0.0001], 'n_initial_subsets': [1],  'n_best_models': [1],'n_initial_iters': [1]\n",
    "    }),\n",
    "    ParamGrid(\n",
    "        name='FastLTS 500 starts', model=Model.FAST_LTS, smart_init=False, fit_params={},\n",
    "        grid_params={'alpha': [0.5], 'n_initial_subsets': [500], 'n_best_models': [10], 'n_initial_c_steps': [2]}\n",
    "    ),\n",
    "    ParamGrid(\n",
    "        name='FastLTS single start - no smart init', model=Model.FAST_LTS, smart_init=False, fit_params={},\n",
    "        grid_params={'alpha': [0.5], 'n_initial_subsets': [1], 'n_best_models': [1], 'n_initial_c_steps': [1]}\n",
    "    ),\n",
    "    ParamGrid(\n",
    "        name='FastLTS single start - xy wrap smart init', model=Model.FAST_LTS, smart_init=True, fit_params={},\n",
    "        grid_params={'alpha': [0.5], 'n_initial_subsets': [1], 'n_best_models': [1], 'n_initial_c_steps': [1]}\n",
    "    ),\n",
    "     ParamGrid(\n",
    "        name='Classic LMS 3000 subsets', model=Model.LMS, smart_init=False, fit_params={}, grid_params={'nr_of_subsamples': [3000]}\n",
    "    ),\n",
    "    ParamGrid(name='MM estimator', model=Model.MM_ESTIMATOR)\n",
    "]"
   ]
  },
  {
   "cell_type": "code",
   "execution_count": null,
   "metadata": {},
   "outputs": [],
   "source": [
    "path = './Output/experiments_paper_final.pkl'\n",
    "\n",
    "if os.path.exists(path):\n",
    "    exp = experiment.Experiment.load(path)\n",
    "else:\n",
    "    exp = experiment.Experiment(\n",
    "        scaler=StandardScaler,\n",
    "        datasets=['bodyfat', 'ale', 'power', 'hardware', 'simulated_simple', 'simulated_a09'],\n",
    "        simple_simulator_params={'contamination_distance_y': 5, 'contamination_distance_x': 5, 'bad_leverage_perc': 0.5},\n",
    "        a09_simulator_params={'noise_std': 0.1, 'contamination_distance': 5, 'contamination_vertical_shift': -5, 'bad_leverage_perc': 0.5},\n",
    "        param_grids=param_grids,\n",
    "        repetitions=10,\n",
    "        leverage_perc=0.5\n",
    "    )\n",
    "\n",
    "exp.run(store_intermediate=True, path=path, disable_gridsearch=True)\n",
    "exp.save(path)"
   ]
  },
  {
   "cell_type": "markdown",
   "metadata": {},
   "source": [
    "# Plots"
   ]
  },
  {
   "cell_type": "code",
   "execution_count": null,
   "metadata": {},
   "outputs": [],
   "source": [
    "exp = experiment.Experiment.load('./Output/experiments_paper_final.pkl')"
   ]
  },
  {
   "cell_type": "code",
   "execution_count": null,
   "metadata": {},
   "outputs": [],
   "source": [
    "datasets_real = {\n",
    "    'bodyfat': 'Bodyfat',\n",
    "    'hardware': 'Computer Hardware',\n",
    "    'power': 'CCPP',\n",
    "    'ale': 'Average Localization Error',\n",
    "}\n",
    "\n",
    "datasets_simul = {\n",
    "    'simulated_simple': 'Simulated data: Uncorrelated features',\n",
    "    'simulated_a09': 'Simulated data: Correlated features',\n",
    "}\n"
   ]
  },
  {
   "cell_type": "markdown",
   "metadata": {},
   "source": [
    "## Fast LTS vs Soft LTS"
   ]
  },
  {
   "cell_type": "code",
   "execution_count": null,
   "metadata": {},
   "outputs": [],
   "source": [
    "models = {\n",
    "    'OLS': 'OLS',\n",
    "    'MM estimator': 'MM estimator',\n",
    "    'S estimator': 'S estimator',\n",
    "    'FastLTS 500 starts' : 'FastLTS 500 starts',\n",
    "    'FastLTS single start - no smart init': 'FastLTS single start - random init',\n",
    "    'FastLTS single start - xy wrap smart init': 'FastLTS single start - xy wrap init',\n",
    "    'SoftLTS single start - no smart init': 'SoftLTS single start - random init',\n",
    "    'SoftLTS single start - xy wrap smart init': 'SoftLTS single start - xy wrap init',\n",
    "    'SoftLTS 20 starts - no smart init': 'SoftLTS 20 starts'\n",
    "}"
   ]
  },
  {
   "cell_type": "markdown",
   "metadata": {},
   "source": [
    "### Simulation data"
   ]
  },
  {
   "cell_type": "code",
   "execution_count": null,
   "metadata": {},
   "outputs": [],
   "source": [
    "fig, axd = exp.plot_r2_and_fit_time(figsize=(22, 10),\n",
    "    dataset_dict=datasets_simul,\n",
    "    datasets=list(datasets_simul.keys()),\n",
    "    models=models,\n",
    "    y_label='Mean $R^2$ on test set',\n",
    "    x_label='Outlier percentage',\n",
    "    n_legend_col=4\n",
    ")"
   ]
  },
  {
   "cell_type": "markdown",
   "metadata": {},
   "source": [
    "### Real data"
   ]
  },
  {
   "cell_type": "code",
   "execution_count": null,
   "metadata": {},
   "outputs": [],
   "source": [
    "fig, axd = exp.plot_r2_and_fit_time(figsize=(25, 13),\n",
    "    dataset_dict=datasets_real,\n",
    "    datasets=list(datasets_real.keys()),\n",
    "    models=models,\n",
    "    y_label='Mean $R^2$ on test set',\n",
    "    x_label='Outlier percentage',\n",
    ")"
   ]
  },
  {
   "cell_type": "markdown",
   "metadata": {},
   "source": [
    "## Fast LMS vs Soft LMS"
   ]
  },
  {
   "cell_type": "code",
   "execution_count": null,
   "metadata": {},
   "outputs": [],
   "source": [
    "models = {\n",
    "    'OLS': 'OLS',\n",
    "    # 'S estimator': 'S estimator',\n",
    "    'MM estimator': 'MM estimator',\n",
    "    'SoftLMS single start - no smart init' : 'SoftLMS single start - random init',\n",
    "    'SoftLMS single start - xy wrap smart init': 'SoftLMS single start - xy wrap init',\n",
    "    'SoftLMS 20 starts - no smart init': 'SoftLMS 20 starts',\n",
    "    'Classic LMS 3000 subsets': 'Classic LMS 3000 subsets'\n",
    "}"
   ]
  },
  {
   "cell_type": "markdown",
   "metadata": {},
   "source": [
    "### Simulation data"
   ]
  },
  {
   "cell_type": "code",
   "execution_count": null,
   "metadata": {},
   "outputs": [],
   "source": [
    "fig, axd = exp.plot_r2_and_fit_time(figsize=(22, 10),\n",
    "    dataset_dict=datasets_simul,\n",
    "    datasets=list(datasets_simul.keys()),\n",
    "    models=models,\n",
    "    y_label='Mean $R^2$ on test set',\n",
    "    x_label='Outlier percentage',\n",
    "    n_legend_col=3\n",
    ")"
   ]
  },
  {
   "cell_type": "markdown",
   "metadata": {},
   "source": [
    "### Real data"
   ]
  },
  {
   "cell_type": "code",
   "execution_count": null,
   "metadata": {
    "scrolled": false
   },
   "outputs": [],
   "source": [
    "fig, axd = exp.plot_r2_and_fit_time(figsize=(22, 13),\n",
    "    dataset_dict=datasets_real,\n",
    "    datasets=list(datasets_real.keys()),\n",
    "    models=models,\n",
    "    y_label='Mean $R^2$ on test set',\n",
    "    x_label='Outlier percentage',\n",
    "    n_legend_col=3\n",
    ")\n"
   ]
  },
  {
   "cell_type": "markdown",
   "metadata": {},
   "source": [
    "## Non-linear regression"
   ]
  },
  {
   "cell_type": "markdown",
   "metadata": {},
   "source": [
    "### Data"
   ]
  },
  {
   "cell_type": "code",
   "execution_count": null,
   "metadata": {},
   "outputs": [],
   "source": [
    "from scipy.stats import chi2\n",
    "\n",
    "np.random.seed(42)\n",
    "n_clean = 800\n",
    "n_outlier = 200\n",
    "n_observations = n_clean + n_outlier\n",
    "\n",
    "row_idx = np.array([0, 1]).reshape(-1, 1)\n",
    "column_idx = np.array([0, 1]).reshape(1, -1)\n",
    "cov = np.power(0.9, np.abs(row_idx - column_idx))\n",
    "X_clean = np.random.multivariate_normal(mean=np.array([0, 0]), cov=cov, size=n_clean)\n",
    "\n",
    "eigenvalues, eigenvectors = np.linalg.eig(cov)\n",
    "selected_direction = eigenvectors[:, np.argmin(eigenvalues)]\n",
    "mahalanobis_distance = (\n",
    "    (selected_direction).reshape(1, -1) @ np.linalg.inv(cov) @ (selected_direction).reshape(-1, 1)\n",
    ")[0][0]\n",
    "scaled_direction = selected_direction / np.sqrt(mahalanobis_distance)\n",
    "mu_contaminated = scaled_direction * np.sqrt(chi2.ppf(0.975, 1))\n",
    "X_outlier = np.random.multivariate_normal(mean=mu_contaminated, cov=cov * 1, size=n_outlier)\n",
    "\n",
    "X_data = np.concatenate((X_clean, X_outlier))\n",
    "\n",
    "augmented_X = np.c_[np.ones(n_observations), X_data]\n",
    "y_data = np.sin(augmented_X @ np.array([1, 1, 1]).reshape(-1, 1))\n",
    "gaussian_noise = np.random.normal(loc=0, scale=0.1, size=(n_observations, 1))\n",
    "y_data += gaussian_noise\n",
    "y_data[-200:] += 10\n",
    "\n",
    "\n",
    "fig = plt.figure(figsize=(10, 5))\n",
    "ax = fig.add_subplot(121, projection='3d')\n",
    "ax.scatter3D(X_data[:800, 0], X_data[:800, 1], y_data[:800], label='clean data')\n",
    "ax.scatter3D(X_data[800:, 0], X_data[800:, 1], y_data[800:], label='outliers')\n",
    "ax.set_zlabel('y', fontsize=15)\n",
    "ax.set_xlabel('$X_1$', fontsize=15, fontweight='bold')\n",
    "ax.set_ylabel('$X_2$', fontsize=15)\n",
    "\n",
    "ax = fig.add_subplot(122, projection='3d')\n",
    "ax.scatter3D(X_data[:800, 0], X_data[:800, 1], y_data[:800], label='Clean data')\n",
    "ax.scatter3D(X_data[800:, 0], X_data[800:, 1], y_data[800:], label='Outliers')\n",
    "ax.set_zlabel('y', fontsize=15)\n",
    "ax.set_xlabel('$X_1$', fontsize=15)\n",
    "ax.set_ylabel('$X_2$', fontsize=15)\n",
    "ax.set_zticklabels([])\n",
    "fig.legend(*ax.get_legend_handles_labels(), loc='upper center', fontsize=12)"
   ]
  },
  {
   "cell_type": "markdown",
   "metadata": {},
   "source": [
    "### Experiment"
   ]
  },
  {
   "cell_type": "code",
   "execution_count": null,
   "metadata": {},
   "outputs": [],
   "source": [
    "import keras, joblib\n",
    "from keras.models import Sequential\n",
    "from keras.layers import Dense, Layer\n",
    "from keras.optimizers import Adam\n",
    "from sklearn.metrics import r2_score\n",
    "\n",
    "np.random.seed(42)\n",
    "keras.utils.set_random_seed(42)\n",
    "results = {}\n",
    "\n",
    "y_wrap = custom_wrapping.wrap(y_data, rescale=True)\n",
    "mlp_init = Sequential([\n",
    "    Dense(units=100, activation='relu'),\n",
    "    Dense(units=100, activation='relu'),\n",
    "    Dense(units=1, activation='linear')\n",
    "])\n",
    "mlp_init.compile(loss='mean_squared_error', optimizer=Adam(learning_rate=0.001))\n",
    "\n",
    "history = mlp_init.fit(X_data, y_wrap, epochs=2000, batch_size=50, verbose=False)\n",
    "init_weights = mlp_init.get_weights()\n",
    "\n",
    "print('MSE')\n",
    "mlp = Sequential([\n",
    "    Dense(units=100, activation='relu'),\n",
    "    Dense(units=100, activation='relu'),\n",
    "    Dense(units=1, activation='linear')\n",
    "])\n",
    "mlp.compile(loss='mean_squared_error', optimizer=Adam(learning_rate=0.001))\n",
    "\n",
    "history = mlp.fit(X_data, y_data, epochs=2000, batch_size=50, verbose=False)\n",
    "\n",
    "results['mse'] = {\n",
    "    'predictions' : mlp.predict(X_data),\n",
    "    'r2': r2_score(y_data[:800], mlp.predict(X_data[:800])),\n",
    "    'history': history.history['loss']\n",
    "}\n",
    "\n",
    "print('MSE init')\n",
    "mlp.set_weights(init_weights)\n",
    "history = mlp.fit(X_data, y_data, epochs=2000, batch_size=50, verbose=False)\n",
    "\n",
    "results['mse_init'] = {\n",
    "    'predictions' : mlp.predict(X_data),\n",
    "    'r2': r2_score(y_data[:800], mlp.predict(X_data[:800])),\n",
    "    'history': history.history['loss']\n",
    "}\n",
    "\n",
    "print('MAE')\n",
    "mlp = Sequential([\n",
    "    Dense(units=100, activation='relu'),\n",
    "    Dense(units=100, activation='relu'),\n",
    "    Dense(units=1, activation='linear')\n",
    "])\n",
    "mlp.compile(loss='mean_absolute_error', optimizer=Adam(learning_rate=0.001))\n",
    "\n",
    "history = mlp.fit(X_data, y_data, epochs=2000, batch_size=50, verbose=False)\n",
    "\n",
    "results['mae'] = {\n",
    "    'predictions' : mlp.predict(X_data),\n",
    "    'r2': r2_score(y_data[:800], mlp.predict(X_data[:800])),\n",
    "    'history': history.history['loss']\n",
    "}\n",
    "\n",
    "print('MAE init')\n",
    "mlp.set_weights(init_weights)\n",
    "history = mlp.fit(X_data, y_data, epochs=2000, batch_size=50, verbose=False)\n",
    "\n",
    "results['mae_init'] = {\n",
    "    'predictions' : mlp.predict(X_data),\n",
    "    'r2': r2_score(y_data[:800], mlp.predict(X_data[:800])),\n",
    "    'history': history.history['loss']\n",
    "}\n",
    "\n",
    "print('Soft')\n",
    "mlp = soft_lts.SoftLTS_MLP(\n",
    "    layers=[\n",
    "        Dense(100, activation='relu'),\n",
    "        Dense(100, activation='relu'),\n",
    "        Dense(1, activation='linear')\n",
    "    ],\n",
    "    learning_rate=0.01,\n",
    "    alpha=0.7\n",
    ")\n",
    "mlp.fit(X_data, y_data, epochs=10000, verbosity=logging.ERROR, initial_weights=None)\n",
    "results['soft'] = {\n",
    "    'predictions' : mlp.predict(X_data),\n",
    "    'r2': r2_score(y_data[:800], mlp.predict(X_data[:800])),\n",
    "    'history': mlp.history\n",
    "}\n",
    "\n",
    "print('Soft init')\n",
    "mlp = soft_lts.SoftLTS_MLP(\n",
    "    layers=[\n",
    "        Dense(100, activation='relu'),\n",
    "        Dense(100, activation='relu'),\n",
    "        Dense(1, activation='linear')\n",
    "    ],\n",
    "    learning_rate=0.01,\n",
    "    alpha=0.7\n",
    ")\n",
    "mlp.fit(X_data, y_data, epochs=10000, verbosity=logging.ERROR, initial_weights=mlp_init.get_weights())\n",
    "\n",
    "results['soft_init'] = {\n",
    "    'predictions' : mlp.predict(X_data),\n",
    "    'r2': r2_score(y_data[:800], mlp.predict(X_data[:800])),\n",
    "    'history': mlp.history\n",
    "}\n",
    "\n",
    "joblib.dump(results, './Output/non-linear-experiment.pkl')"
   ]
  },
  {
   "cell_type": "code",
   "execution_count": null,
   "metadata": {},
   "outputs": [],
   "source": [
    "%matplotlib inline\n",
    "results = joblib.load('./Output/non-linear-experiment.pkl')\n",
    "fig = plt.figure(figsize=(30, 20))\n",
    "models = {\n",
    "    'mse': 'MSE loss',\n",
    "    'mae': 'MAE loss',\n",
    "    'soft': 'Soft LTS loss',\n",
    "    'mse_init': 'MSE loss with y-wrap initialisation',\n",
    "    'mae_init': 'MAE loss with y-wrap initialisation',\n",
    "    'soft_init': 'Soft LTS loss with y-wrap initialisation'\n",
    "}\n",
    "for i, model in enumerate(models, start=1):\n",
    "    ax = fig.add_subplot(f'23{i}', projection='3d')\n",
    "    ax.scatter3D(X_data[:800, 0], X_data[:800, 1], y_data[:800], label='clean data', alpha=0.5, s=100)\n",
    "    ax.scatter3D(X_data[800:, 0], X_data[800:, 1], y_data[800:], label='outliers', alpha=0.5, s=100)\n",
    "    ax.scatter3D(X_data[:, 0], X_data[:, 1], results[model]['predictions'], label='predictions', alpha=0.5, s=100)\n",
    "    ax.set_zlabel('y', fontsize=30)\n",
    "    ax.set_xlabel('$X_1$', fontsize=30)\n",
    "    ax.set_ylabel('$X_2$', fontsize=30)\n",
    "    ax.set_zticklabels([])\n",
    "    ax.set_title(f'{models[model]} \\n $R^2$ = {results[model][\"r2\"]:.2f}', size=30)\n",
    "    ax.tick_params(axis='both', labelsize=20)\n",
    "fig.legend(*ax.get_legend_handles_labels(), loc='upper center', ncol=3, bbox_to_anchor=(0.5, 1.05), fontsize=20, markerscale=3)\n",
    "fig.canvas.draw()\n",
    "fig.tight_layout()\n",
    "plt.subplots_adjust(wspace=0, hspace=0.15)\n",
    "    "
   ]
  },
  {
   "cell_type": "code",
   "execution_count": null,
   "metadata": {},
   "outputs": [],
   "source": [
    "window = 10\n",
    "fig, ax = plt.subplots(1, 1, figsize=(12, 6))\n",
    "ax.plot(pd.Series(results['soft']['history']).rolling(window=window).mean(), label='Soft LTS loss')\n",
    "ax.plot(pd.Series(results['soft_init']['history']).rolling(window=window).mean(), label = 'Soft LTS loss with y-wrap initialisation')\n",
    "ax.set_ylim((0, np.quantile(np.concatenate((results['soft']['history'], results['soft_init']['history'])), 0.995)))\n",
    "ax.legend()\n",
    "ax.set_title('(Smoothed) Training loss history')\n",
    "ax.set_xlabel('Iteration')\n",
    "ax.set_ylabel('Soft LTS loss')"
   ]
  },
  {
   "cell_type": "code",
   "execution_count": null,
   "metadata": {},
   "outputs": [],
   "source": [
    "fig = plt.figure(figsize=(10, 5))\n",
    "ax = fig.add_subplot(121, projection='3d')"
   ]
  },
  {
   "cell_type": "markdown",
   "metadata": {},
   "source": [
    "## Wrapping"
   ]
  },
  {
   "cell_type": "markdown",
   "metadata": {},
   "source": [
    "### Wrapping function"
   ]
  },
  {
   "cell_type": "code",
   "execution_count": null,
   "metadata": {},
   "outputs": [],
   "source": [
    "from custom_wrapping import wrap\n",
    "X = np.random.randn(100000)\n",
    "\n",
    "X_wrap = wrap(X)\n",
    "X_wrap_rescale = wrap(X, rescale=True)\n",
    "\n",
    "fig, ax = plt.subplots(1, 1, figsize=(9, 5))\n",
    "ax.plot(np.sort(X), X_wrap[np.argsort(X)], lw=3)\n",
    "# ax.plot(np.sort(X), X_wrap_rescale[np.argsort(X)], lw=3)\n",
    "ax.set_xlabel('Original Data', size=15)\n",
    "ax.set_ylabel('Wrapped Data', size=15)\n",
    "_ = plt.xticks(size=12)\n",
    "_ = plt.yticks(size=12)\n"
   ]
  },
  {
   "cell_type": "markdown",
   "metadata": {},
   "source": [
    "### Wrapping regression"
   ]
  },
  {
   "cell_type": "code",
   "execution_count": null,
   "metadata": {},
   "outputs": [],
   "source": [
    "X, _, y, _ = data_simulator.DataSimulatorSimple(\n",
    "    n_features=1, bad_leverage_perc=0.5, contamination_distance_x=2, contamination_distance_y=2\n",
    ").get_data(outlier_perc=0.2)\n",
    "Xy_wrap = custom_wrapping.wrap(np.concatenate((X, y), axis=1))\n",
    "X_wrap = Xy_wrap[:, 0]\n",
    "y_wrap = Xy_wrap[:, 1]"
   ]
  },
  {
   "cell_type": "code",
   "execution_count": null,
   "metadata": {},
   "outputs": [],
   "source": [
    "%matplotlib inline\n",
    "plt.figure(figsize=(15, 6))\n",
    "\n",
    "plt.scatter(X.flatten()[200:], y.flatten()[200:], alpha=0.5, label='Clean data')\n",
    "plt.scatter(X.flatten()[:200], y.flatten()[:200], alpha=0.5, color='red', label='Outliers')\n",
    "plt.scatter(X_wrap, y_wrap, alpha=0.7, c='green', label='$Xy$-wrapped data')\n",
    "r1 = LinearRegression().fit(X, y)\n",
    "r2 = LinearRegression().fit(X_wrap[:, None], y_wrap[:, None])\n",
    "plt.axline([0., r1.predict([[0]])[0][0]], [1., r1.predict([[1]])[0][0]], color='red', lw=3,\n",
    "           label=f'OLS on original data ($R^2$ on clean data = {r1.score(X[200:], y[200:]):.2f})')\n",
    "plt.axline([0., r2.predict([[0]])[0][0]], [1., r2.predict([[1]])[0][0]], color='green', lw=3,\n",
    "           label=f'OLS on $Xy$-wrapped data ($R^2$ on clean data = {r2.score(X[200:], y[200:]):.2f})')\n",
    "plt.xlabel('X', fontsize=20)\n",
    "plt.ylabel('y', fontsize=20)\n",
    "_ = plt.xticks(fontsize=12)\n",
    "_ = plt.yticks(fontsize=12)\n",
    "plt.legend(fontsize=12, ncol=3, loc='lower left')"
   ]
  },
  {
   "cell_type": "markdown",
   "metadata": {},
   "source": [
    "# END"
   ]
  },
  {
   "cell_type": "code",
   "execution_count": null,
   "metadata": {},
   "outputs": [],
   "source": []
  }
 ],
 "metadata": {
  "kernelspec": {
   "display_name": "soft_lts",
   "language": "python",
   "name": "python3"
  },
  "language_info": {
   "codemirror_mode": {
    "name": "ipython",
    "version": 3
   },
   "file_extension": ".py",
   "mimetype": "text/x-python",
   "name": "python",
   "nbconvert_exporter": "python",
   "pygments_lexer": "ipython3",
   "version": "3.10.12"
  },
  "toc": {
   "base_numbering": 1,
   "nav_menu": {},
   "number_sections": true,
   "sideBar": true,
   "skip_h1_title": false,
   "title_cell": "Table of Contents",
   "title_sidebar": "Contents",
   "toc_cell": false,
   "toc_position": {
    "height": "732px",
    "left": "41px",
    "top": "98px",
    "width": "293.949px"
   },
   "toc_section_display": true,
   "toc_window_display": true
  },
  "vscode": {
   "interpreter": {
    "hash": "ace24b8d00828387953b365eee02a7d116a20e54b0d063e5199d4bfa2602eca3"
   }
  }
 },
 "nbformat": 4,
 "nbformat_minor": 4
}
